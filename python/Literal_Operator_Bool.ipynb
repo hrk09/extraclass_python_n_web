{
 "cells": [
  {
   "cell_type": "markdown",
   "metadata": {},
   "source": [
    "# 1. Literal"
   ]
  },
  {
   "cell_type": "code",
   "execution_count": null,
   "metadata": {},
   "outputs": [],
   "source": [
    "# list\n",
    "l = []  # list를 생성하는 정확한 법은 []쓰고 안에 요소 넣는 것 = list literal \n",
    "list()  # 생성자 함수\n",
    "\n",
    "# dict\n",
    "{}  # dict literal \n",
    "dict()  # 생성자 함수\n",
    "\n",
    "# tuple\n",
    "()  # tuple literal\n",
    "tuple()  # 생성자 함수\n",
    "\n",
    "# string\n",
    "''  # str literal\n",
    "str()  # 생성자 함수"
   ]
  },
  {
   "cell_type": "markdown",
   "metadata": {},
   "source": [
    "# Operator\n",
    "\n",
    "- 변수 지정 가능: 대/소문자, _, 숫자 (숫자는 맨 앞에 못 옴)\n",
    "- `>, >=, <, <=, ==, !=, in` : 앞 뒤에 뭐가 있어야 함\n",
    "- `>, >=, <, <=, ==, !=, in, not` : 이 연산 끝나고 나면 T/F만 남는다"
   ]
  },
  {
   "cell_type": "code",
   "execution_count": null,
   "metadata": {},
   "outputs": [],
   "source": [
    "a = 1  # = 는 좌변의 이름에 우변의 값을 할당한다\n",
    "\n",
    "print(a)\n",
    "print(1 > 2)  # False\n",
    "print(2 == 2)  # == 는 같냐? True\n"
   ]
  },
  {
   "cell_type": "markdown",
   "metadata": {},
   "source": [
    "# Bool\n",
    "\n",
    "- T/F가 되는 상황\n",
    "- 비어있는 것들 or None\n",
    "- 자동으로 F가 되는 경우\n",
    "    - `if`, `while` 0, 0.0, '', [], {}, (), None\n",
    "    - bool(0, 0.0, '', [], {}, (), None)\n",
    "- 자동으로 T가 되는 경우(안에 뭐라도 들어있으면 T)\n",
    "    - `if`, `while` 1, -1, 1.1, ' '(''안에 공백있음), [False], [None], [0]... F가 되는 경우 제외한 모든 경우"
   ]
  },
  {
   "cell_type": "code",
   "execution_count": null,
   "metadata": {},
   "outputs": [],
   "source": [
    "give_me = {'a': 1, 'b': 2}.get('c')  # None\n",
    "\n",
    "unknown_list = []  # unknown_list를 빈 리스트로 만드는 것\n",
    "\n",
    "print(unknown_list == [])  # list가 비어있냐고 물어보는 식\n",
    "\n",
    "# 특정 리스트가 값이 있다면 a 출력하고, 비었다면 b 출력한다.\n",
    "if a_list:  # type(some_list) == list\n",
    "    print(a)\n",
    "else:\n",
    "    print(b)\n",
    "\n",
    "# 특정 리스트가 값이 없다면 a 출력하고, 있다면 b 출력한다.\n",
    " if not a_list:\n",
    "    print(a)\n",
    "else: \n",
    "    print(b)\n",
    "    "
   ]
  }
 ],
 "metadata": {
  "kernelspec": {
   "display_name": "Python 3",
   "language": "python",
   "name": "python3"
  },
  "language_info": {
   "codemirror_mode": {
    "name": "ipython",
    "version": 3
   },
   "file_extension": ".py",
   "mimetype": "text/x-python",
   "name": "python",
   "nbconvert_exporter": "python",
   "pygments_lexer": "ipython3",
   "version": "3.7.3"
  }
 },
 "nbformat": 4,
 "nbformat_minor": 2
}

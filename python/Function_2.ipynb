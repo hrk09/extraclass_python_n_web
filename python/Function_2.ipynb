{
 "cells": [
  {
   "cell_type": "markdown",
   "metadata": {},
   "source": [
    "# Function Input/ Output/ 재귀\n",
    "\n",
    "## output"
   ]
  },
  {
   "cell_type": "code",
   "execution_count": null,
   "metadata": {},
   "outputs": [],
   "source": [
    "# 1. Output 이 없다. == return이 없다.\n",
    "\n",
    "def yes_in_no_out(str, num):\n",
    "    pass"
   ]
  },
  {
   "cell_type": "code",
   "execution_count": null,
   "metadata": {},
   "outputs": [],
   "source": [
    "def sort_and_reverse(input_list):\n",
    "    input_list.sort()\n",
    "    input_list.reverse()\n",
    "    # return None 이 나옴, return None을 쓰는 것이 낫다.\n",
    "    \n",
    "a = [2, 3, 1, 2]\n",
    "\n",
    "n = sort_and_reverse(a)\n",
    "\n",
    "a\n",
    "# pythontutor로 확인해보면, a가 변한 것을 알 수 있음\n",
    "n\n",
    "# None"
   ]
  },
  {
   "cell_type": "code",
   "execution_count": null,
   "metadata": {},
   "outputs": [],
   "source": [
    "# 위의 방법은 return을 하지 않아, 원본이 변함\n",
    "# 원본을 해치지 않고 return 값을 얻는 방법은..\n",
    "\n",
    "import copy\n",
    "\n",
    "def sort_and_reverse(origin):\n",
    "    copy_list = copy.deepcopy(origin)\n",
    "    copy_list.sort()\n",
    "    copy_list.reverse()\n",
    "    return copy_list\n",
    "    \n",
    "a = [2, 4, 1, 3]\n",
    "\n",
    "result = sort_and_reverse(a)\n",
    "\n",
    "a\n",
    "result"
   ]
  },
  {
   "cell_type": "code",
   "execution_count": null,
   "metadata": {},
   "outputs": [],
   "source": [
    "def no_in_no_out():\n",
    "    pass    "
   ]
  },
  {
   "cell_type": "code",
   "execution_count": null,
   "metadata": {},
   "outputs": [],
   "source": [
    "from datetime import datetime\n",
    "\n",
    "def print_now():\n",
    "    n = datetime.now()\n",
    "    print(n.strftime('%y - %m - %d'))\n",
    "    return None"
   ]
  },
  {
   "cell_type": "code",
   "execution_count": null,
   "metadata": {},
   "outputs": [],
   "source": [
    "print_now()"
   ]
  },
  {
   "cell_type": "markdown",
   "metadata": {},
   "source": [
    "## input"
   ]
  },
  {
   "cell_type": "code",
   "execution_count": null,
   "metadata": {},
   "outputs": [],
   "source": [
    "print('a', 'b', 'c', 'd', 'e', sep='-')"
   ]
  },
  {
   "cell_type": "code",
   "execution_count": null,
   "metadata": {},
   "outputs": [],
   "source": [
    "def my_print(*args):  # 몇개가 들어올 지는 모르지만, 다 받아줘야할 때 => *args\n",
    "    pass"
   ]
  },
  {
   "cell_type": "code",
   "execution_count": null,
   "metadata": {},
   "outputs": [],
   "source": [
    "def my_add(unknown):  # 정해지지 않은 값을 넣고 싶은데, \n",
    "    return unknown  # 변수명은 사람을 위해서 잘 짓는 것"
   ]
  },
  {
   "cell_type": "code",
   "execution_count": null,
   "metadata": {},
   "outputs": [],
   "source": [
    "my_add(1, 2)  # argument가 못 들어와서 오류발생"
   ]
  },
  {
   "cell_type": "code",
   "execution_count": null,
   "metadata": {},
   "outputs": [],
   "source": [
    "def my_add(*unknown):  # unknown을 하든, args를 하든 상관이 없다. * 만 붙이면 됨!\n",
    "    return sum(unknown)"
   ]
  },
  {
   "cell_type": "code",
   "execution_count": null,
   "metadata": {},
   "outputs": [],
   "source": [
    "my_add(1, 2, 3, 4, 6)\n",
    "\n",
    "# 실행하면, unknown = (1, 2, 3, 4, 6)  튜플로 나옴 "
   ]
  },
  {
   "cell_type": "code",
   "execution_count": null,
   "metadata": {},
   "outputs": [],
   "source": [
    "def my_add(*unknown):  # unknown을 하든, args를 하든 상관이 없다. * 만 붙이면 됨!\n",
    "    return unknown"
   ]
  },
  {
   "cell_type": "code",
   "execution_count": null,
   "metadata": {},
   "outputs": [],
   "source": [
    "my_add([1, 2, 3], [3, 4, 5, 6], 4, 4, 4)"
   ]
  },
  {
   "cell_type": "code",
   "execution_count": null,
   "metadata": {},
   "outputs": [],
   "source": [
    "def make_dict(**kwargs):  # *args와 똑같다. 몇개인지는 모르겠지만, key와 val 형태로 들어올거야...\n",
    "    print(kwargs)  # 그럼 나는 다 묶어서 내맘대로 dict 만들거야\n",
    "    return kwargs\n",
    "\n",
    "make_dict(a=1, b=2, c=3, d=4)"
   ]
  },
  {
   "cell_type": "markdown",
   "metadata": {},
   "source": [
    "## Recursive (재귀함수)\n",
    "### basecase: 끝나야 함\n",
    "### 'while'문으로 power를 구현하자"
   ]
  },
  {
   "cell_type": "code",
   "execution_count": null,
   "metadata": {},
   "outputs": [],
   "source": [
    "# x의 n거듭제곱 구하기 == x**n\n",
    "\n",
    "def power(x, n):\n",
    "    result = 1\n",
    "    while n > 0:\n",
    "        result *= x\n",
    "        n -= 1\n",
    "        return result\n",
    "\n",
    "power(2, 3)  # 8 == 2 * (2 * 2) == power(2, 2) * 2 = power(2, 1) * 2 * 2 == 2 * 2 * 2\n",
    "# n : 3, result : 2\n",
    "    # n : 2, result : 4\n",
    "    # n : 1, result : 8\n",
    "    # n : 0\n",
    "# return : 8"
   ]
  },
  {
   "cell_type": "code",
   "execution_count": null,
   "metadata": {},
   "outputs": [],
   "source": [
    "def power(x, n):\n",
    "    if n == 0:\n",
    "        return 1\n",
    "    return x * power(x, n-1)"
   ]
  },
  {
   "cell_type": "code",
   "execution_count": null,
   "metadata": {},
   "outputs": [],
   "source": [
    "# 피보나치"
   ]
  },
  {
   "cell_type": "code",
   "execution_count": null,
   "metadata": {},
   "outputs": [],
   "source": [
    "# 팩토리얼"
   ]
  },
  {
   "cell_type": "code",
   "execution_count": null,
   "metadata": {},
   "outputs": [],
   "source": [
    "# power(x, n)"
   ]
  }
 ],
 "metadata": {
  "kernelspec": {
   "display_name": "Python 3",
   "language": "python",
   "name": "python3"
  },
  "language_info": {
   "codemirror_mode": {
    "name": "ipython",
    "version": 3
   },
   "file_extension": ".py",
   "mimetype": "text/x-python",
   "name": "python",
   "nbconvert_exporter": "python",
   "pygments_lexer": "ipython3",
   "version": "3.7.3"
  }
 },
 "nbformat": 4,
 "nbformat_minor": 2
}

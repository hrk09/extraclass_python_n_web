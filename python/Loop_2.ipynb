{
 "cells": [
  {
   "cell_type": "markdown",
   "metadata": {},
   "source": [
    "# 190730\n",
    "\n",
    "## Loop\n",
    "\n",
    "- break\n",
    "- continue"
   ]
  },
  {
   "cell_type": "code",
   "execution_count": null,
   "metadata": {},
   "outputs": [],
   "source": [
    "# for break\n",
    "for i in range(10):\n",
    "    if i == 7:\n",
    "        break  # else는 써도, 안써도 됨\n",
    "    print(i)"
   ]
  },
  {
   "cell_type": "code",
   "execution_count": null,
   "metadata": {},
   "outputs": [],
   "source": [
    "# while break\n",
    "# while 은 T/F로 결정나는 것만 나올 수 있음\n",
    "# 1. \n",
    "\n",
    "my_list = [1, 2, 3, 4, 5]\n",
    "\n",
    "find_it = False  # flag\n",
    "idx = 0\n",
    "while not find_it:  # find_it 이 TRUE가 되고, While not find_it 은 False되니까 끝남(break 쓸 필요 x)  \n",
    "    if my_list[idx] == 4:\n",
    "        print('find it')\n",
    "        find_it = True\n",
    "    idx += 1        "
   ]
  },
  {
   "cell_type": "code",
   "execution_count": null,
   "metadata": {},
   "outputs": [],
   "source": [
    "# while break\n",
    "# while 은 T/F로 결정나는 것만 나올 수 있음\n",
    "# 2. \n",
    "\n",
    "my_list = [1, 2, 3, 4, 5]\n",
    "\n",
    "idx = 0\n",
    "key = 100\n",
    "while idx < len(my_list):  # find_it 이 TRUE가 되고, While not find_it 은 False되니까 끝남(break 쓸 필요 x)  \n",
    "    if my_list[idx] == 4:\n",
    "        print('find it')\n",
    "        break\n",
    "    idx += 1\n",
    "    \n",
    "# 똑같은 문제를 for, while 다 쓸 수 있는데, 어차피 while에 제한조건을 줄거면, for을 쓰면됨.\n",
    "# while을 쓰는 것은 처음과 끝이 정해지지 않은 경우에만 쓰는 것이 낫다\n",
    "# for은 처음부터 ★☆순차적으로★☆ 돌 때 사용(시퀀스 자료형을 순서대로 쓸 때)\n"
   ]
  },
  {
   "cell_type": "code",
   "execution_count": null,
   "metadata": {},
   "outputs": [],
   "source": [
    "idx = 0\n",
    "some_list = [\n",
    "    '이번주 점심메뉴'  # 넘기고 싶다(!=멈춘다)\n",
    "    '비빔밥',\n",
    "    '부대찌개',\n",
    "    '파스타',\n",
    "    '삼계탕',\n",
    "]\n",
    "# some_list에서 순환은 계속하되, '이번주 점심메뉴'를 넘기고 싶을때\n"
   ]
  },
  {
   "cell_type": "code",
   "execution_count": null,
   "metadata": {},
   "outputs": [],
   "source": [
    "for idx, line in enumerate(some_list):  # enumerate를 쓰면 (index, line)로 나옴\n",
    "    if idx == 0:  # if idx:\n",
    "        continue  # index가 0이면, 다음 회차로 넘어가라\n",
    "    print(line)"
   ]
  },
  {
   "cell_type": "code",
   "execution_count": null,
   "metadata": {},
   "outputs": [],
   "source": [
    "for idx, line in enumerate(some_list):  # enumerate를 쓰면 (index, line)로 나옴\n",
    "    if not idx == 0:\n",
    "        print(line)  # index가 0이 아닐때만, print\n",
    "        "
   ]
  },
  {
   "cell_type": "code",
   "execution_count": null,
   "metadata": {},
   "outputs": [],
   "source": [
    "idx = 0\n",
    "while idx < len(some_list):\n",
    "    if not idx == 0:\n",
    "        idx += 1\n",
    "        continue\n",
    "    print(some_list[idx])\n",
    "    idx += 1"
   ]
  },
  {
   "cell_type": "markdown",
   "metadata": {},
   "source": [
    "## break, continue 중첩"
   ]
  },
  {
   "cell_type": "code",
   "execution_count": null,
   "metadata": {},
   "outputs": [],
   "source": [
    "for i in range(3):\n",
    "    print(f'i:{i}', end=' ')\n",
    "    for j in range(3):\n",
    "        print(f'j:{j}', end=' ')\n",
    "        for k in range(3):\n",
    "            if k % 2 == 1:  # k가 홀수이면 out\n",
    "                break  # k 제어\n",
    "            print(f'k:{k}', end=' ')\n",
    "        break  # j 제어"
   ]
  },
  {
   "cell_type": "code",
   "execution_count": null,
   "metadata": {},
   "outputs": [],
   "source": [
    "# 원할때 멈추고 자유롭게 하고싶으면, flag 쓴 while 문 쓰면 됨\n",
    "\n",
    "flag1 = True\n",
    "flag2 = True\n",
    "flag3 = True\n",
    "\n",
    "while flag1:\n",
    "    while flag2:\n",
    "        while flag3:\n",
    "            if True:\n",
    "                flag1 = flag2 = flag3 = False  # 모든 flag를 멈춘다\n",
    "\n",
    "# flag3가 break되어야 flag2로, flag2가 끝나야 flag1로        "
   ]
  },
  {
   "cell_type": "code",
   "execution_count": null,
   "metadata": {},
   "outputs": [],
   "source": []
  }
 ],
 "metadata": {
  "kernelspec": {
   "display_name": "Python 3",
   "language": "python",
   "name": "python3"
  },
  "language_info": {
   "codemirror_mode": {
    "name": "ipython",
    "version": 3
   },
   "file_extension": ".py",
   "mimetype": "text/x-python",
   "name": "python",
   "nbconvert_exporter": "python",
   "pygments_lexer": "ipython3",
   "version": "3.7.3"
  }
 },
 "nbformat": 4,
 "nbformat_minor": 2
}

{
 "cells": [
  {
   "cell_type": "markdown",
   "metadata": {},
   "source": [
    "# Function\n",
    "\n",
    "- `return value`\n",
    "- `input`(들어오거나 말거나) -> `function` -> `output`(나오거나 아무것도 안나오거나)\n",
    "\n",
    "- 인자 o, 인자 x\n",
    "- 리턴 o, 리턴 x\n",
    "- 함수는 4가지 경우밖에 없다\n",
    "- () 붙는 애들은 리턴이 있는지를 확인"
   ]
  },
  {
   "cell_type": "code",
   "execution_count": null,
   "metadata": {},
   "outputs": [],
   "source": [
    "# yes in yes out\n",
    "def yes_in_yes_out(x):  # yes in 이니까 immutable(지들이 못바뀌니 값만 뱉어)\n",
    "    result = x + 1\n",
    "    return result\n",
    "\n",
    "yiyo = yes_in_yes_out(100)\n",
    "yiyo # 101\n",
    "\n",
    "# yes in no out\n",
    "def yes_in_no_out(x):  # mutable(지들이 바뀌니 값을 내어줄 수 밖에)\n",
    "    result = x * 2  # 리턴없음\n",
    "\n",
    "yiyo = yes_in_no_out(100)\n",
    "yiyo  # None\n",
    "\n",
    "# no in yes out\n",
    "def no_in_yes_out():\n",
    "    return ':)'\n",
    "\n",
    "niyo = no_in_yes_out()  # immutable\n",
    "niyo  # :)\n",
    "\n",
    "# no in no out\n",
    "def no_in_no_out():  # mutable\n",
    "    1 + 1\n",
    "nino = no_in_no_out()\n",
    "nino  # None"
   ]
  }
 ],
 "metadata": {
  "kernelspec": {
   "display_name": "Python 3",
   "language": "python",
   "name": "python3"
  },
  "language_info": {
   "codemirror_mode": {
    "name": "ipython",
    "version": 3
   },
   "file_extension": ".py",
   "mimetype": "text/x-python",
   "name": "python",
   "nbconvert_exporter": "python",
   "pygments_lexer": "ipython3",
   "version": "3.7.3"
  }
 },
 "nbformat": 4,
 "nbformat_minor": 2
}

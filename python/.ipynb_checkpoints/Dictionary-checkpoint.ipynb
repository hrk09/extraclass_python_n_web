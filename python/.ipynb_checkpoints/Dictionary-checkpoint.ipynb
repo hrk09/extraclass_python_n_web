{
 "cells": [
  {
   "cell_type": "markdown",
   "metadata": {},
   "source": [
    "# 딕셔너리\n",
    "\n",
    "- `key`, `value`\n",
    "- for문을 돌릴 때, `raw`, `.keys()`, `.values()`"
   ]
  },
  {
   "cell_type": "code",
   "execution_count": null,
   "metadata": {},
   "outputs": [],
   "source": [
    "# 리스트(돌리기용)\n",
    "\n",
    "l = [1, 2, 3]\n",
    "l[2] = 3\n"
   ]
  },
  {
   "cell_type": "code",
   "execution_count": null,
   "metadata": {},
   "outputs": [],
   "source": [
    "# 딕셔너리(꺼내기용)\n",
    "\n",
    "d = {'a': 1, 'b': 2, 'c': [1, 2, 3]} \n",
    "d['a']  # 1\n"
   ]
  },
  {
   "cell_type": "code",
   "execution_count": null,
   "metadata": {},
   "outputs": [],
   "source": [
    "# key값인 movieCd에 담긴 value\n",
    "\n",
    "for key in d  # d for key 가 나온다.\n",
    "    if key == 'a':\n",
    "        result = d[key]\n",
    "print(result)\n",
    "\n",
    "# 이 식은 d['a']와 똑같은 소리...and"
   ]
  },
  {
   "cell_type": "code",
   "execution_count": null,
   "metadata": {},
   "outputs": [],
   "source": [
    "# key, val 같이 꺼내는 방법\n",
    "for key, value in d.items():  # for k, v in d.items(): 랑 같다 (= dict의 키밸류 순회하면서 for문 돌린다.)\n",
    "    pass"
   ]
  },
  {
   "cell_type": "code",
   "execution_count": null,
   "metadata": {},
   "outputs": [],
   "source": [
    "# key 를 꺼내는 2가지 방법\n",
    "\n",
    "# 1.\n",
    "for key in d:\n",
    "    pass  # 의미없는 말 쓸 때 pass\n",
    "\n",
    "# 2.\n",
    "for key in d.keys():\n",
    "    pass\n"
   ]
  },
  {
   "cell_type": "code",
   "execution_count": null,
   "metadata": {},
   "outputs": [],
   "source": [
    "# value 를 꺼내는 방법\n",
    "d = {\n",
    "    'director_code': 1234,\n",
    "    'name': '봉준호',\n",
    "    '필모그래피': [\n",
    "        '기생충', \n",
    "        '괴물', \n",
    "    ]\n",
    "}\n",
    "\n",
    "bongs_code = 0\n",
    "for value in d.values():\n",
    "    if value == '봉준호':\n",
    "        bongs_code = d['director_code']\n",
    "    \n",
    "\n",
    "for key in d:\n",
    "    d[key]\n",
    "    "
   ]
  }
 ],
 "metadata": {
  "kernelspec": {
   "display_name": "Python 3",
   "language": "python",
   "name": "python3"
  },
  "language_info": {
   "codemirror_mode": {
    "name": "ipython",
    "version": 3
   },
   "file_extension": ".py",
   "mimetype": "text/x-python",
   "name": "python",
   "nbconvert_exporter": "python",
   "pygments_lexer": "ipython3",
   "version": "3.7.3"
  }
 },
 "nbformat": 4,
 "nbformat_minor": 2
}

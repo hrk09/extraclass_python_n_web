{
 "cells": [
  {
   "cell_type": "markdown",
   "metadata": {},
   "source": [
    "# 01. 홀수만 리스트에 뽑는 방법"
   ]
  },
  {
   "cell_type": "markdown",
   "metadata": {},
   "source": [
    "- 나의 풀이"
   ]
  },
  {
   "cell_type": "code",
   "execution_count": null,
   "metadata": {},
   "outputs": [],
   "source": [
    "# 1. count로 풀기\n",
    "def find_one(*args):\n",
    "    for i in args:\n",
    "        if args.count(i) % 2 == 1:\n",
    "            result = i\n",
    "    return result\n",
    "\n",
    "# 2. 리스트로 풀기\n",
    "def find_one2(*args):\n",
    "    str_list = []\n",
    "    for a in args:\n",
    "        if a not in str_list:\n",
    "            str_list.append(a)\n",
    "        else:\n",
    "            str_list.remove(a)\n",
    "\n",
    "    return str_list[0]\n",
    "\n",
    "\n",
    "# 숫자 set이 들어옵니다 => 단 하나만 홀수개가 들어옵니다.    \n",
    "print(find_one(1, 2, 1))  # 2\n",
    "print(find_one(1, 1, 2, 2, 3, 3, 3))  # 3\n",
    "print(find_one(4, 3, 2, 1, 10, 1, 2, 4, 3))  # 10\n",
    "\n",
    "\n",
    "print(find_one2(1, 2, 1))  # 2\n",
    "print(find_one2(1, 1, 2, 2, 3, 3, 3))  # 3\n",
    "print(find_one2(4, 3, 2, 1, 10, 1, 2, 4, 3)) "
   ]
  },
  {
   "cell_type": "markdown",
   "metadata": {},
   "source": [
    "- guide 풀이"
   ]
  },
  {
   "cell_type": "code",
   "execution_count": null,
   "metadata": {},
   "outputs": [],
   "source": [
    "# problem 01. 극한 컴퓨터\n",
    "# youtube > QUANTUM COMPUTERS EXPLAINED > LIMITES OF HUMAN TECH\n",
    "\n",
    "'''\n",
    "not 0 = 1\n",
    "not 1 = 0\n",
    "'''\n",
    "'''\n",
    "XOR\n",
    "같으면 0 나오고 다르면 1\n",
    "예) 성별이 같으면 결혼을 못한다(0)\n",
    "\n",
    "XOR 연산을 만나면 같은 수 사라짐(같은 수가 0이 된다)\n",
    "1, 1이 만나면  삭제됨\n",
    "print(1^1) 식으로 표현\n",
    "'''\n",
    "def find_one(*args):\n",
    "    r = 0\n",
    "    for n in args:\n",
    "        r ^= n\n",
    "    return r\n",
    "\n",
    "\n",
    "print(find_one(1, 2, 1))\n",
    "print(find_one(1, 1, 2, 2, 3, 3, 3))\n",
    "print(find_one(4, 3, 2, 1, 10, 1, 2, 4, 3)) "
   ]
  },
  {
   "cell_type": "markdown",
   "metadata": {},
   "source": [
    "# 02. 마니또 만들기"
   ]
  },
  {
   "cell_type": "markdown",
   "metadata": {},
   "source": [
    "- 나의 풀이"
   ]
  },
  {
   "cell_type": "code",
   "execution_count": null,
   "metadata": {},
   "outputs": [],
   "source": [
    "# 마니또 manito\n",
    "import random\n",
    "\n",
    "def make_manito(*students):\n",
    "    give_lst = []\n",
    "    take_lst = []\n",
    "    for student in students:\n",
    "        give_lst += [student]\n",
    "        take_lst += [student]\n",
    "\n",
    "    random.shuffle(give_lst)\n",
    "    random.shuffle(take_lst)\n",
    "    result = list(map(list, zip(give_lst, take_lst)))\n",
    "\n",
    "    for r in range(len(result)):\n",
    "        if result[r][0] == result[r][1]:\n",
    "            return 'problem02.py를 실행해주세요:)'\n",
    "            break\n",
    "    \n",
    "    return result\n",
    "\n",
    "print(make_manito('a', 'b', 'c', 'd'))"
   ]
  },
  {
   "cell_type": "markdown",
   "metadata": {},
   "source": [
    "- guide 풀이"
   ]
  },
  {
   "cell_type": "code",
   "execution_count": null,
   "metadata": {},
   "outputs": [],
   "source": [
    "# problem 2.\n",
    "# 겹치지 않게 마니또 만드는 방법\n",
    "\n",
    "import random\n",
    "\n",
    "# 강강술래 a>b>c>a\n",
    "def make_manito(*args):\n",
    "    # people = random.shuffle(list(args))\n",
    "    for i in range(len(args)):\n",
    "        if args[i] == args[-1]:\n",
    "            print(f'{args[i]} => {args[0]}')\n",
    "        else:             \n",
    "            print(f'{args[i]} => {args[i+1]}')\n",
    "\n",
    "make_manito('a', 'b', 'c', 'd')\n"
   ]
  }
 ],
 "metadata": {
  "kernelspec": {
   "display_name": "Python 3",
   "language": "python",
   "name": "python3"
  },
  "language_info": {
   "codemirror_mode": {
    "name": "ipython",
    "version": 3
   },
   "file_extension": ".py",
   "mimetype": "text/x-python",
   "name": "python",
   "nbconvert_exporter": "python",
   "pygments_lexer": "ipython3",
   "version": "3.7.3"
  }
 },
 "nbformat": 4,
 "nbformat_minor": 2
}

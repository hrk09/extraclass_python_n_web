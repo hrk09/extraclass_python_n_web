{
 "cells": [
  {
   "cell_type": "markdown",
   "metadata": {},
   "source": [
    "# Loop\n",
    "\n",
    "## 1. for\n",
    "- 안전함, 반드시 끝남, 처음부터 끝까지 모두 순회하면서 돎\n",
    "- `for`와 `in`은 반드시 같이 씀(즉, for만 쓰는 경우는 NEVER)\n",
    "- `for` ? `in` ??: 형태로 씀\n",
    "    - ?에는 내가 짓고 싶은 이름(변수 원칙 지켜서) ??는 돌릴수 있는 것을 지정함\n",
    "    - 돌릴 수 있는 것: list, str, range, dict, tuple 순으로 많이 돌림\n",
    "    - `for`문을 쓸 때에는 무작정 쓰는 것이 아니라 몇 번을 돌릴지 생각하고 for문을 쓰는 것이므로 ?? 부터 쓰고 for 문을 쓰면 됨\n",
    "- for 문 쓰는 방법: ??, for in, 변수(i): 순으로 사용하면 됨 "
   ]
  },
  {
   "cell_type": "code",
   "execution_count": null,
   "metadata": {},
   "outputs": [],
   "source": [
    "for i in range(10):\n",
    "    # 1부터 10을 출력\n",
    "    print(i+1)"
   ]
  },
  {
   "cell_type": "code",
   "execution_count": null,
   "metadata": {},
   "outputs": [],
   "source": [
    "total = 0  # total에 리스트에 있는 것 다 넣는다.\n",
    "for n in [1, 2, 3, 4, 5]:\n",
    "    total = total + n\n",
    "    \n",
    "\n",
    "# total = total + 1 (total 은 1)\n",
    "# total + 2 (total 은 3)\n",
    "# total + 3\n",
    "# total + 4\n",
    "# total + 5\n",
    "\n",
    "print(total)\n"
   ]
  },
  {
   "cell_type": "markdown",
   "metadata": {},
   "source": [
    "## 2. while\n",
    "\n",
    "- 내가 끝을 지정해야함\n",
    "- `while T/F:`로 사용\n",
    "- `while`은 반드시 뒤에 `T/F`가 와야함\n",
    "\n",
    "- 파이썬 내맘대로 `T/F` 변환법칙\n",
    "    - T: 0, '', [], (), {}, None\n",
    "    - F: 비어있지 않은 수, str, 리스트, 딕셔너리, 튜플"
   ]
  },
  {
   "cell_type": "code",
   "execution_count": null,
   "metadata": {},
   "outputs": [],
   "source": [
    "flag = True\n",
    "\n",
    "while flag:  # flag에 True가 할당되었어도, flag는 변수\n",
    "    flag = False\n",
    "    "
   ]
  },
  {
   "cell_type": "code",
   "execution_count": null,
   "metadata": {},
   "outputs": [],
   "source": [
    "x = 1\n",
    "while x < 10:  # x가 10 넘으면 끝낸다 \n",
    "    print('열번말하기')\n",
    "    x += 1\n",
    "    "
   ]
  },
  {
   "cell_type": "markdown",
   "metadata": {},
   "source": [
    "즉, `flag`는 내가 멈추고 싶을 때 쓰면 된다(while 문 쓸 때 쓴다고 보면 됨)"
   ]
  }
 ],
 "metadata": {
  "kernelspec": {
   "display_name": "Python 3",
   "language": "python",
   "name": "python3"
  },
  "language_info": {
   "codemirror_mode": {
    "name": "ipython",
    "version": 3
   },
   "file_extension": ".py",
   "mimetype": "text/x-python",
   "name": "python",
   "nbconvert_exporter": "python",
   "pygments_lexer": "ipython3",
   "version": "3.7.3"
  }
 },
 "nbformat": 4,
 "nbformat_minor": 2
}

{
 "cells": [
  {
   "cell_type": "markdown",
   "metadata": {},
   "source": [
    "# 1. List 만드는 법\n",
    "\n",
    "- [], list() 필요\n",
    "- 리스트 안에는 모든 것이 들어갈 수 있다.\n",
    "- [모든 것, 모든 것, 모든 것, all, ...]\n",
    "- 모든 것: int, bool, str, list, tuple, dict, range, ..."
   ]
  },
  {
   "cell_type": "code",
   "execution_count": null,
   "metadata": {},
   "outputs": [],
   "source": [
    "# 즉, 아래와 같은 복잡한 리스트도 가능하다\n",
    "[\n",
    "    1,\n",
    "    True,\n",
    "    'a',\n",
    "    [\n",
    "        2,\n",
    "        False,\n",
    "        'b',\n",
    "        [],\n",
    "        (),\n",
    "        {},\n",
    "        range(1)],\n",
    "    (),\n",
    "    {},\n",
    "    range(0)]\n"
   ]
  },
  {
   "cell_type": "markdown",
   "metadata": {},
   "source": [
    "# 2. 일반적인 리스트 특징\n",
    "\n",
    "- 요소 모두의 자료형이 같다\n",
    "- 요소 모두를 관통하는 단어를 찾는다\n",
    "- 그 단어의 복수형을 리스트의 이름으로 짓는다"
   ]
  },
  {
   "cell_type": "code",
   "execution_count": null,
   "metadata": {},
   "outputs": [],
   "source": [
    "numbers_1 = [1, 2, 3, 4]\n",
    "\n",
    "numbers_2 = [10, 20, 30]  \n",
    "# 두 리스트를 동일한 이름으로 할당하면 최근 리스트로 실행됨\n",
    "\n",
    "numbers_3 = [100, 200, 300]\n",
    "\n",
    "number_lists = [numbers_1, numbers_2, numbers_3]\n",
    "\n",
    "number_lists[2]  # numbers_3  # [100, 200, 300]\n",
    "number_3[1]  # 200\n",
    "\n",
    "number_lists[2][1]"
   ]
  },
  {
   "cell_type": "markdown",
   "metadata": {},
   "source": [
    "# 3. 리스트 메소드"
   ]
  },
  {
   "cell_type": "code",
   "execution_count": null,
   "metadata": {},
   "outputs": [],
   "source": [
    "my_list = [1, 2, 3]\n",
    "\n",
    "# my_list를 바꿈\n",
    "my_list.append(4)  # my_list == [1, 2, 3, 4]\n",
    "my_list.extend()   \n",
    "my_list.insert()\n",
    "my_list.remove()\n",
    "my_list.pop()  # 마지막꺼를 빼낸다\n",
    "my_list.sort()\n",
    "my_list.reverse()\n",
    "\n",
    "# my_list가 바뀌지 않음(조회한다.)\n",
    "my_list.index()  # ()\n",
    "my_list.count()"
   ]
  },
  {
   "cell_type": "markdown",
   "metadata": {},
   "source": [
    "## immutable/mutable\n",
    "\n",
    "- immutable: 죽었다 깨어나도 바뀌지 않음(str, tuple, range())\n",
    "- mutable: 그러나 [], {}는 바뀐다"
   ]
  },
  {
   "cell_type": "code",
   "execution_count": null,
   "metadata": {},
   "outputs": [],
   "source": [
    "words = 'AbCdE'\n",
    "words.capitalize() # 'ABCDE'  \n",
    "'''\n",
    "무슨일을 해도 안바뀜. 대문자로 바뀌나 () 리턴이 됨\n",
    "따라서 다시 words를 출력하면 그냥 원본이 출력됨\n",
    "str에 method 입력하면 새로운 것이 나오나요? return(o), 그럼 str이 바뀌었나요?(x)\n",
    "'''\n",
    "\n",
    "# 리스트, 딕셔너리는 메서드 추가하면, 리턴값()이 없고 원본이 바뀜\n",
    "caffe = ['hollys', 'starbucks']\n",
    "caffe.append('caffebene')\n",
    "# [], {} 들어가는건 그냥 바뀌는 애들이야 라고 생각하는게 빠름\n"
   ]
  }
 ],
 "metadata": {
  "kernelspec": {
   "display_name": "Python 3",
   "language": "python",
   "name": "python3"
  },
  "language_info": {
   "codemirror_mode": {
    "name": "ipython",
    "version": 3
   },
   "file_extension": ".py",
   "mimetype": "text/x-python",
   "name": "python",
   "nbconvert_exporter": "python",
   "pygments_lexer": "ipython3",
   "version": "3.7.3"
  }
 },
 "nbformat": 4,
 "nbformat_minor": 2
}
